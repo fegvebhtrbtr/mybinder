{
 "cells": [
  {
   "cell_type": "code",
   "execution_count": null,
   "id": "62c234f6",
   "metadata": {},
   "outputs": [],
   "source": [
    "#!/usr/bin/python\n",
    "# -*- coding: UTF-8 -*-\n",
    " \n",
    "import time  # 引入time模块\n",
    " \n",
    "ticks = time.time()\n",
    "print \"当前时间戳为:\", ticks"
   ]
  },
  {
   "cell_type": "code",
   "execution_count": null,
   "id": "1ef0807b",
   "metadata": {},
   "outputs": [],
   "source": []
  }
 ],
 "metadata": {
  "kernelspec": {
   "display_name": "Python 3 (ipykernel)",
   "language": "python",
   "name": "python3"
  },
  "language_info": {
   "codemirror_mode": {
    "name": "ipython",
    "version": 3
   },
   "file_extension": ".py",
   "mimetype": "text/x-python",
   "name": "python",
   "nbconvert_exporter": "python",
   "pygments_lexer": "ipython3",
   "version": "3.10.8"
  }
 },
 "nbformat": 4,
 "nbformat_minor": 5
}
